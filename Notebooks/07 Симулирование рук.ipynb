{
 "cells": [
  {
   "cell_type": "markdown",
   "metadata": {},
   "source": [
    "# Симулирование рук"
   ]
  },
  {
   "cell_type": "code",
   "execution_count": 1,
   "metadata": {},
   "outputs": [],
   "source": [
    "import os\n",
    "os.chdir('../')"
   ]
  },
  {
   "cell_type": "code",
   "execution_count": 2,
   "metadata": {},
   "outputs": [],
   "source": [
    "import random\n",
    "\n",
    "from simple_bandits import BernoulliArm"
   ]
  },
  {
   "cell_type": "code",
   "execution_count": 3,
   "metadata": {},
   "outputs": [],
   "source": [
    "means = [0.1, 0.1, 0.1, 0.1, 0.9]\n",
    "n_arms = len(means)\n",
    "random.shuffle(means)\n",
    "arms = list(map(lambda mu: BernoulliArm(mu), means))"
   ]
  },
  {
   "cell_type": "code",
   "execution_count": 4,
   "metadata": {},
   "outputs": [
    {
     "data": {
      "text/plain": [
       "[<simple_bandits.arms.bernoulli.BernoulliArm at 0x1066b9950>,\n",
       " <simple_bandits.arms.bernoulli.BernoulliArm at 0x106623e90>,\n",
       " <simple_bandits.arms.bernoulli.BernoulliArm at 0x1066b9550>,\n",
       " <simple_bandits.arms.bernoulli.BernoulliArm at 0x1066b9b50>,\n",
       " <simple_bandits.arms.bernoulli.BernoulliArm at 0x1066b9e50>]"
      ]
     },
     "execution_count": 4,
     "metadata": {},
     "output_type": "execute_result"
    }
   ],
   "source": [
    "arms"
   ]
  },
  {
   "cell_type": "code",
   "execution_count": 5,
   "metadata": {},
   "outputs": [
    {
     "name": "stdout",
     "output_type": "stream",
     "text": [
      "0.0\n",
      "0.0\n",
      "0.0\n",
      "0.0\n",
      "1.0\n",
      "0.0\n",
      "0.0\n"
     ]
    }
   ],
   "source": [
    "print(arms[0].draw())\n",
    "print(arms[1].draw())\n",
    "print(arms[2].draw())\n",
    "print(arms[2].draw())\n",
    "print(arms[3].draw())\n",
    "print(arms[2].draw())\n",
    "print(arms[4].draw())"
   ]
  },
  {
   "cell_type": "code",
   "execution_count": null,
   "metadata": {},
   "outputs": [],
   "source": []
  },
  {
   "cell_type": "code",
   "execution_count": null,
   "metadata": {},
   "outputs": [],
   "source": []
  }
 ],
 "metadata": {
  "kernelspec": {
   "display_name": "venv",
   "language": "python",
   "name": "python3"
  },
  "language_info": {
   "codemirror_mode": {
    "name": "ipython",
    "version": 3
   },
   "file_extension": ".py",
   "mimetype": "text/x-python",
   "name": "python",
   "nbconvert_exporter": "python",
   "pygments_lexer": "ipython3",
   "version": "3.11.4"
  }
 },
 "nbformat": 4,
 "nbformat_minor": 2
}
